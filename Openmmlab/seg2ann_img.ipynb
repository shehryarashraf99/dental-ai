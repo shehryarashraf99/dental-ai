{
 "cells": [
  {
   "cell_type": "code",
   "execution_count": 15,
   "id": "2e7058c6",
   "metadata": {},
   "outputs": [],
   "source": [
    "import os\n",
    "import numpy as np\n",
    "from PIL import Image\n",
    "import os.path as osp\n",
    "import mmcv\n",
    "import mmengine\n",
    "import matplotlib.pyplot as plt\n",
    "import xml.etree.ElementTree as ET"
   ]
  },
  {
   "cell_type": "code",
   "execution_count": 19,
   "id": "61e14c1e",
   "metadata": {},
   "outputs": [
    {
     "name": "stdout",
     "output_type": "stream",
     "text": [
      "0.15.0\n",
      "2.0.0\n"
     ]
    }
   ],
   "source": [
    "import torchvision\n",
    "import torch\n",
    "print(torchvision.__version__)\n",
    "print(torch.__version__)\n",
    "\n"
   ]
  },
  {
   "cell_type": "code",
   "execution_count": null,
   "id": "da6c44ff",
   "metadata": {},
   "outputs": [],
   "source": [
    "conda install pytorch==2.0.0 torchvision==0.15.0 cudatoolkit=11.7 -c pytorch -c conda-forge"
   ]
  },
  {
   "cell_type": "code",
   "execution_count": 17,
   "id": "86ba4a61",
   "metadata": {},
   "outputs": [],
   "source": [
    "palette=[[0, 0, 0], [128, 0, 0], [0, 128, 0], [128, 128, 0],\n",
    "                 [0, 0, 128], [128, 0, 128], [0, 128, 128], [128, 128, 128],\n",
    "                 [64, 0, 0], [192, 0, 0], [64, 128, 0], [192, 128, 0],\n",
    "                 [64, 0, 128], [192, 0, 128], [64, 128, 128], [192, 128, 128],\n",
    "                 ]\n",
    "classes=('background', 'Impaction', 'Caries', 'Shadow', 'Bone Loss',\n",
    "                 'Bridge', 'Bdr', 'Periapical Abscess', 'Rct', 'Crown', 'Filling', 'Unerupted',\n",
    "                 'Implant', 'Rct -Post', 'Splinted Crowns', 'Retentive Pin')"
   ]
  },
  {
   "cell_type": "code",
   "execution_count": 10,
   "id": "bc58c90a",
   "metadata": {},
   "outputs": [],
   "source": [
    "class_colors = {\n",
    "    'background': (0, 0, 0),\n",
    "    'Impaction': (128, 0, 0),\n",
    "    'Caries': (0, 128, 0),\n",
    "    'Shadow': (128, 128, 0),\n",
    "    'Bone Loss': (0, 0, 128),\n",
    "    'Bridge': (128, 0, 128),\n",
    "    'Bdr': (0, 128, 128),\n",
    "    'Periapical Abscess': (128, 128, 128),\n",
    "    'Rct': (64, 0, 0),\n",
    "    'Crown': (192, 0, 0),\n",
    "    'Filling': (64, 128, 0),\n",
    "    'Unerupted': (192, 128, 0),\n",
    "    'Implant': (64, 0, 128),\n",
    "    'Rct -Post': (192, 0, 128),\n",
    "    'Splinted Crowns': (64, 128, 128),\n",
    "    'Retentive Pin': (192, 128, 128)\n",
    "}"
   ]
  },
  {
   "cell_type": "code",
   "execution_count": 1,
   "id": "59a97407",
   "metadata": {},
   "outputs": [
    {
     "ename": "NameError",
     "evalue": "name 'os' is not defined",
     "output_type": "error",
     "traceback": [
      "\u001b[1;31m---------------------------------------------------------------------------\u001b[0m",
      "\u001b[1;31mNameError\u001b[0m                                 Traceback (most recent call last)",
      "Cell \u001b[1;32mIn[1], line 3\u001b[0m\n\u001b[0;32m      1\u001b[0m xml_dir \u001b[38;5;241m=\u001b[39m \u001b[38;5;124mr\u001b[39m\u001b[38;5;124m'\u001b[39m\u001b[38;5;124mC:\u001b[39m\u001b[38;5;124m\\\u001b[39m\u001b[38;5;124mUsers\u001b[39m\u001b[38;5;124m\\\u001b[39m\u001b[38;5;124mHP\u001b[39m\u001b[38;5;124m\\\u001b[39m\u001b[38;5;124mDownloads\u001b[39m\u001b[38;5;124m\\\u001b[39m\u001b[38;5;124mdentasmart.v3i.voc\u001b[39m\u001b[38;5;124m\\\u001b[39m\u001b[38;5;124mall\u001b[39m\u001b[38;5;124m'\u001b[39m\n\u001b[0;32m      2\u001b[0m output_dir \u001b[38;5;241m=\u001b[39m \u001b[38;5;124mr\u001b[39m\u001b[38;5;124m'\u001b[39m\u001b[38;5;124mC:\u001b[39m\u001b[38;5;124m\\\u001b[39m\u001b[38;5;124mUsers\u001b[39m\u001b[38;5;124m\\\u001b[39m\u001b[38;5;124mHP\u001b[39m\u001b[38;5;124m\\\u001b[39m\u001b[38;5;124mDownloads\u001b[39m\u001b[38;5;124m\\\u001b[39m\u001b[38;5;124mdentasmart.v3i.voc\u001b[39m\u001b[38;5;124m\\\u001b[39m\u001b[38;5;124msegmentation\u001b[39m\u001b[38;5;124m'\u001b[39m\n\u001b[1;32m----> 3\u001b[0m \u001b[38;5;28;01mfor\u001b[39;00m filename \u001b[38;5;129;01min\u001b[39;00m \u001b[43mos\u001b[49m\u001b[38;5;241m.\u001b[39mlistdir(xml_dir):\n\u001b[0;32m      4\u001b[0m     \u001b[38;5;28;01mif\u001b[39;00m filename\u001b[38;5;241m.\u001b[39mendswith(\u001b[38;5;124m'\u001b[39m\u001b[38;5;124m.xml\u001b[39m\u001b[38;5;124m'\u001b[39m):\n\u001b[0;32m      5\u001b[0m         xml_path \u001b[38;5;241m=\u001b[39m os\u001b[38;5;241m.\u001b[39mpath\u001b[38;5;241m.\u001b[39mjoin(xml_dir, filename)\n",
      "\u001b[1;31mNameError\u001b[0m: name 'os' is not defined"
     ]
    }
   ],
   "source": [
    "xml_dir = r'C:\\Users\\HP\\mmsegmentation\\mmseg\\data\\images'\n",
    "output_dir = r'C:\\Users\\HP\\mmsegmentation\\mmseg\\data\\labels'\n",
    "for filename in os.listdir(xml_dir):\n",
    "    if filename.endswith('.xml'):\n",
    "        xml_path = os.path.join(xml_dir, filename)\n",
    "        \n",
    "        # Parse XML\n",
    "        tree = ET.parse(xml_path)\n",
    "        root = tree.getroot()\n",
    "        \n",
    "        # Create semantic map image\n",
    "        width = int(root.find('size/width').text)\n",
    "        height = int(root.find('size/height').text)\n",
    "        semantic_map = Image.new('RGB', (width, height))\n",
    "        \n",
    "        # Iterate over objects in XML\n",
    "        for obj in root.iter('object'):\n",
    "            obj_class = obj.find('name').text\n",
    "            obj_bbox = obj.find('bndbox')\n",
    "            xmin = int(obj_bbox.find('xmin').text)\n",
    "            ymin = int(obj_bbox.find('ymin').text)\n",
    "            xmax = int(obj_bbox.find('xmax').text)\n",
    "            ymax = int(obj_bbox.find('ymax').text)\n",
    "            \n",
    "            # Assign color based on class\n",
    "            if obj_class in class_colors:\n",
    "                color =class_colors[obj_class]\n",
    "\n",
    "                semantic_map.paste(color, (xmin, ymin, xmax, ymax))\n",
    "        \n",
    "        # Save semantic map\n",
    "        output_filename = os.path.splitext(filename)[0] + '.png'\n",
    "        output_path = os.path.join(output_dir, output_filename)\n",
    "        semantic_map.save(output_path)"
   ]
  },
  {
   "cell_type": "code",
   "execution_count": null,
   "id": "d770661f",
   "metadata": {},
   "outputs": [],
   "source": [
    "input_directory = r'C:\\Users\\HP\\Downloads\\dentasmart.v3i.voc\\all'\n",
    "output_directory = r'C:\\Users\\HP\\Downloads\\dentasmart.v3i.voc\\segmentation'"
   ]
  },
  {
   "cell_type": "code",
   "execution_count": 13,
   "id": "3e41fdcf",
   "metadata": {},
   "outputs": [],
   "source": [
    "import os\n",
    "import numpy as np\n",
    "from PIL import Image, ImageDraw\n",
    "import xml.etree.ElementTree as ET\n",
    "\n",
    "class_colors = {\n",
    "    'background': (0, 0, 0),\n",
    "    'Impaction': (128, 0, 0),\n",
    "    'Caries': (0, 128, 0),\n",
    "    'Shadow': (128, 128, 0),\n",
    "    'Bone Loss': (0, 0, 128),\n",
    "    'Bridge': (128, 0, 128),\n",
    "    'Bdr': (0, 128, 128),\n",
    "    'Periapical Abscess': (128, 128, 128),\n",
    "    'Rct': (64, 0, 0),\n",
    "    'Crown': (192, 0, 0),\n",
    "    'Filling': (64, 128, 0),\n",
    "    'Unerupted': (192, 128, 0),\n",
    "    'Implant': (64, 0, 128),\n",
    "    'Rct -Post': (192, 0, 128),\n",
    "    'Splinted Crowns': (64, 128, 128),\n",
    "    'Retentive Pin': (192, 128, 128)\n",
    "}\n",
    "\n",
    "input_directory = r'C:\\Users\\HP\\Downloads\\dentasmart.v3i.voc\\all'\n",
    "output_directory = r'C:\\Users\\HP\\Downloads\\dentasmart.v3i.voc\\segmentation'\n",
    "\n",
    "# Create output directory if it doesn't exist\n",
    "os.makedirs(output_directory, exist_ok=True)\n",
    "\n",
    "# Process each XML file in the input directory\n",
    "for filename in os.listdir(input_directory):\n",
    "    if filename.endswith('.xml'):\n",
    "        # Parse XML dataset\n",
    "        xml_path = os.path.join(input_directory, filename)\n",
    "        tree = ET.parse(xml_path)\n",
    "        root = tree.getroot()\n",
    "\n",
    "        # Get image dimensions\n",
    "        image_width = int(root.find('size/width').text)\n",
    "        image_height = int(root.find('size/height').text)\n",
    "\n",
    "        # Create blank mask image\n",
    "        mask_image = Image.new('RGB', (image_width, image_height))\n",
    "        draw = ImageDraw.Draw(mask_image)\n",
    "\n",
    "        # Iterate over object annotations\n",
    "        for obj in root.iter('object'):\n",
    "            class_name = obj.find('name').text\n",
    "            class_color = class_colors.get(class_name)\n",
    "\n",
    "            if class_color:\n",
    "                # Get object polygon points\n",
    "                polygon_points = []\n",
    "                polygon = obj.find('polygon')\n",
    "                points = polygon.findall('*')\n",
    "                for point in points:\n",
    "                    x = int(point.text)\n",
    "                    polygon_points.append(x)\n",
    "\n",
    "                # Check if there are enough coordinates to draw a polygon\n",
    "                if len(polygon_points) >= 6:\n",
    "                    # Convert flattened list to a list of tuples (x, y)\n",
    "                    polygon_points = [(polygon_points[i], polygon_points[i + 1]) for i in range(0, len(polygon_points), 2)]\n",
    "\n",
    "                    # Assign class color to the corresponding region in the mask image\n",
    "                    draw.polygon(polygon_points, fill=class_color)\n",
    "\n",
    "        # Save mask image as PNG file\n",
    "        output_filename = os.path.splitext(filename)[0] + '.png'\n",
    "        output_path = os.path.join(output_directory, output_filename)\n",
    "        mask_image.save(output_path)"
   ]
  },
  {
   "cell_type": "code",
   "execution_count": 14,
   "id": "d0258961",
   "metadata": {},
   "outputs": [],
   "source": [
    "\n",
    "\n",
    "\n",
    "\n",
    "input_folder = r'C:\\Users\\HP\\Downloads\\dentasmart.v3i.voc\\segmentation'\n",
    "output_folder =r'C:\\Users\\HP\\Downloads\\dentasmart.v3i.voc\\regions'\n",
    "\n",
    "# Create the output folder if it doesn't exist\n",
    "os.makedirs(output_folder, exist_ok=True)\n",
    "\n",
    "# Process each image in the input folder\n",
    "for filename in os.listdir(input_folder):\n",
    "    if filename.endswith('.png'):\n",
    "        # Load the image\n",
    "        image_path = os.path.join(input_folder, filename)\n",
    "        image = Image.open(image_path)\n",
    "        \n",
    "        # Convert the image to numpy array\n",
    "        image_array = np.array(image)\n",
    "        \n",
    "        # Create an empty regions array\n",
    "        regions = np.zeros(image_array.shape[:2], dtype=int)\n",
    "        \n",
    "        # Assign class IDs to the regions array based on the class colors\n",
    "        for class_id, color in enumerate(class_colors.values()):\n",
    "            regions[(regions == 0) & np.all(image_array == color, axis=-1)] = class_id\n",
    "        \n",
    "        # Save the regions.txt file\n",
    "        output_filename = os.path.splitext(filename)[0] + '.regions.txt'\n",
    "        output_path = os.path.join(output_folder, output_filename)\n",
    "        np.savetxt(output_path, regions, fmt='%d')"
   ]
  },
  {
   "cell_type": "code",
   "execution_count": 18,
   "id": "486bda62",
   "metadata": {},
   "outputs": [],
   "source": [
    "\n",
    "\n",
    "data_root = 'iccv09Data'                 \n",
    "img_dir = 'regions'\n",
    "ann_dir = 'annotations'\n",
    "# convert dataset annotation to semantic segmentation map\n",
    "for file in mmengine.scandir(osp.join(data_root,img_dir), suffix='.regions.txt'):\n",
    "  seg_map = np.loadtxt(osp.join(data_root,img_dir, file)).astype(np.uint8)\n",
    "  seg_img = Image.fromarray(seg_map).convert('P')\n",
    "  seg_img.putpalette(np.array(palette, dtype=np.uint8))\n",
    "  seg_img.save(osp.join(data_root,ann_dir, file.replace('.regions.txt', \n",
    "                                                         '.png')))"
   ]
  },
  {
   "cell_type": "code",
   "execution_count": null,
   "id": "5d840db8",
   "metadata": {},
   "outputs": [],
   "source": []
  }
 ],
 "metadata": {
  "kernelspec": {
   "display_name": "Python 3 (ipykernel)",
   "language": "python",
   "name": "python3"
  },
  "language_info": {
   "codemirror_mode": {
    "name": "ipython",
    "version": 3
   },
   "file_extension": ".py",
   "mimetype": "text/x-python",
   "name": "python",
   "nbconvert_exporter": "python",
   "pygments_lexer": "ipython3",
   "version": "3.12.4"
  }
 },
 "nbformat": 4,
 "nbformat_minor": 5
}
